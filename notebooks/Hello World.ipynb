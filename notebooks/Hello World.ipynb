{
 "cells": [
  {
   "cell_type": "code",
   "execution_count": 1,
   "id": "51cc72a6",
   "metadata": {},
   "outputs": [],
   "source": [
    "import ml_test_vectors"
   ]
  },
  {
   "cell_type": "code",
   "execution_count": 2,
   "id": "35fd42b4",
   "metadata": {},
   "outputs": [
    {
     "name": "stdout",
     "output_type": "stream",
     "text": [
      "Hello world!\n"
     ]
    }
   ],
   "source": [
    "ml_test_vectors.hello()"
   ]
  },
  {
   "cell_type": "code",
   "execution_count": null,
   "id": "798371d1",
   "metadata": {},
   "outputs": [],
   "source": []
  }
 ],
 "metadata": {
  "kernelspec": {
   "display_name": ".venv",
   "language": "python",
   "name": "python3"
  },
  "language_info": {
   "codemirror_mode": {
    "name": "ipython",
    "version": 3
   },
   "file_extension": ".py",
   "mimetype": "text/x-python",
   "name": "python",
   "nbconvert_exporter": "python",
   "pygments_lexer": "ipython3",
   "version": "3.11.1"
  },
  "vscode": {
   "interpreter": {
    "hash": "0c1c64b296e5dadbc4bb20ebd2d6345aff7cb51d563b18b9ac0717a37c1454bf"
   }
  }
 },
 "nbformat": 4,
 "nbformat_minor": 5
}
